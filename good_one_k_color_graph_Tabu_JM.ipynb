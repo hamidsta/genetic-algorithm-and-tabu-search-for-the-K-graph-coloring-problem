{
 "cells": [
  {
   "cell_type": "markdown",
   "id": "9d5384c6-490d-4e98-854d-9eb66ef7c371",
   "metadata": {},
   "source": [
    "<font size=\"5\">Graph K-Coloring problem by Tabu Search</font>"
   ]
  },
  {
   "cell_type": "code",
   "execution_count": null,
   "id": "2f5f72ec-7170-49f7-ac39-f81e7891595c",
   "metadata": {},
   "outputs": [],
   "source": [
    "import numpy as np \n",
    "import igraph as ig\n",
    "import random"
   ]
  },
  {
   "cell_type": "markdown",
   "id": "988e8eeb-cb27-4f57-8be7-88f9cdfab65f",
   "metadata": {},
   "source": [
    "<font size='5'>Generate a ramdom graph</font>"
   ]
  },
  {
   "cell_type": "code",
   "execution_count": null,
   "id": "b40dd803-cf57-41b1-83b3-cfd54c3547a1",
   "metadata": {},
   "outputs": [],
   "source": [
    "# Some constants\n",
    "# K: the number of colors\n",
    "# N: the number of nodes\n",
    "# num_ones: number of edges\n",
    "# colors: a color list\n",
    "N = 8\n",
    "num_ones = 5\n",
    "colors = ['grey',\"misty rose\",\"lime green\",\"royal blue\",\"red\",\"pink\",\"purple\",\"orange\",\"yellow\",\"brown\",\"blue\",\"green\"]"
   ]
  },
  {
   "cell_type": "code",
   "execution_count": null,
   "id": "e33c91c8-2c2e-4099-b6b5-5fc1373fa84f",
   "metadata": {},
   "outputs": [],
   "source": [
    "# Method: Randomly generate a N*N Symmetrical binary matrix with num_ones numbers of 1\n",
    "def generate_matrix(N,num_ones):\n",
    "    arr = np.zeros([N,N], dtype=int)\n",
    "    idx1 = np.random.choice(range(N), num_ones)\n",
    "    idx2 = np.random.choice(range(N), num_ones)\n",
    "    arr[idx1,idx2] = 1\n",
    "    arr ^= arr.T\n",
    "    np.fill_diagonal(arr,0)\n",
    "    return arr\n",
    "arr = generate_matrix(N,num_ones)\n",
    "arr"
   ]
  },
  {
   "cell_type": "code",
   "execution_count": null,
   "id": "bf303ecc-b138-44f6-82ce-b5b16e407ece",
   "metadata": {},
   "outputs": [],
   "source": [
    "# create a graph g based on the adjacent N*N matrix\n",
    "g1 = ig.Graph.Adjacency((arr > 0).tolist(),'undirected')\n",
    "g1.vs['value'] = [0] * N\n",
    "visual_style={}\n",
    "visual_style['layout'] =g1.layout_circle()\n",
    "visual_style['bbox'] = (300,300)\n",
    "visual_style['vertex_color'] = [colors[i] for i in g1.vs['value']]\n",
    "ig.plot(g1,**visual_style)"
   ]
  },
  {
   "cell_type": "code",
   "execution_count": null,
   "id": "8cd82fd5-e488-4099-a282-488854958a32",
   "metadata": {},
   "outputs": [],
   "source": [
    "# choose K colors, K >= max_degree + 1\n",
    "max_degree = max(g1.degree())\n",
    "print('max_degree = {}'.format(max_degree))\n",
    "K = max_degree + 1\n",
    "print('So we have to choose at least {} colors'.format(K))"
   ]
  },
  {
   "cell_type": "markdown",
   "id": "0f4aaf02-4027-4e83-b415-e4805cb19a4e",
   "metadata": {},
   "source": [
    "<font size='5'>Three main strategies for Tabu Search</font>"
   ]
  },
  {
   "cell_type": "markdown",
   "id": "b5cfcb71-0686-4d0f-9bd8-182e362992ab",
   "metadata": {},
   "source": [
    "<font size='3'>1. Forbidding strategy: controls waht enters the tabu list </br> 2. Freeing strategy: controls waht exits from tabu list</br> 3. Short-term stratrgy: manages interplat between the forbidding strategy and freeing strategy to select trial solutions </font>"
   ]
  },
  {
   "cell_type": "markdown",
   "id": "2cb32867-83b5-4ef8-bc17-3215126eeb96",
   "metadata": {},
   "source": [
    "<font size='5'>Tabu Search</font>"
   ]
  },
  {
   "cell_type": "markdown",
   "id": "0da99350-2d36-48f3-b575-93916a7247b8",
   "metadata": {},
   "source": [
    "<font size='3'>Step1: Random initialization: only one random solution</font>"
   ]
  },
  {
   "cell_type": "code",
   "execution_count": null,
   "id": "1c06a28c-b630-40ba-9b79-7dd963f3488c",
   "metadata": {},
   "outputs": [],
   "source": []
  },
  {
   "cell_type": "markdown",
   "id": "f2b753d1-acc6-4c96-9358-1d72cc027e7c",
   "metadata": {},
   "source": [
    "<font size='3'>Step2:define a cost function (fitness function)</font>"
   ]
  },
  {
   "cell_type": "code",
   "execution_count": null,
   "id": "99d385a5-7a01-4792-a837-5694314d2567",
   "metadata": {},
   "outputs": [],
   "source": []
  },
  {
   "cell_type": "markdown",
   "id": "bdfa825f-5519-4d87-9ba6-34400e8d05f2",
   "metadata": {},
   "source": [
    "<font size='3'>Step3: find all the neighbors of initial solution: Swap</br> Neighbors are the adjancent solutions that can be reched from the current solution by one swap</font>"
   ]
  },
  {
   "cell_type": "code",
   "execution_count": null,
   "id": "8da8b45f-fac2-4964-9393-d8145f0aa63a",
   "metadata": {},
   "outputs": [],
   "source": []
  },
  {
   "cell_type": "markdown",
   "id": "0d7e0979-68b1-4a20-bb17-aad12ba868c0",
   "metadata": {},
   "source": [
    "<font size='3'>step4: </br>- Calculate the fitness score for each neighborhood </br>- Compare the neighbors' fitness score with the initial solution </br>- Choose the best one from neighbor and put the initial one to the tabu list</br>- Define Aspiration criteria: it defines when the solution should be put into or take out from the tabu list based on certain constraints</br>- We also need to define the size of the Tabu list. If the size of Tabu list is 5, it means we are not able to revisit the list for 5 iterations</font>"
   ]
  },
  {
   "cell_type": "code",
   "execution_count": null,
   "id": "32dfc7a2-7b46-4744-bc23-5d6f85dbfb43",
   "metadata": {},
   "outputs": [],
   "source": []
  },
  {
   "cell_type": "markdown",
   "id": "b0cb1812-f062-4c2a-ac6c-1a56dff0e602",
   "metadata": {},
   "source": [
    "<font size='3'>step5:</br>- Ater choosing one neighbor X and updating the Tabu list, go back to step 3, find the neighbors of X, but if the X's neighbor is in Tabu list, maybe ignore it. but it also depend on our aspiration criteria.</br>- Define our stop criteria</br>- The program will stop until satified our stop criteria </font>"
   ]
  },
  {
   "cell_type": "code",
   "execution_count": null,
   "id": "8da4d720-1ed5-49fc-9d0e-b1ca11d5b809",
   "metadata": {},
   "outputs": [],
   "source": []
  }
 ],
 "metadata": {
  "kernelspec": {
   "display_name": "Python 3 (ipykernel)",
   "language": "python",
   "name": "python3"
  },
  "language_info": {
   "codemirror_mode": {
    "name": "ipython",
    "version": 3
   },
   "file_extension": ".py",
   "mimetype": "text/x-python",
   "name": "python",
   "nbconvert_exporter": "python",
   "pygments_lexer": "ipython3",
   "version": "3.8.13"
  }
 },
 "nbformat": 4,
 "nbformat_minor": 5
}
