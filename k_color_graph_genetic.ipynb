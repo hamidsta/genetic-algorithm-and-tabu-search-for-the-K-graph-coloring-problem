{
 "cells": [
  {
   "cell_type": "markdown",
   "id": "12999cfb-aad7-4c65-8fa1-510c2990b3cc",
   "metadata": {},
   "source": [
    "<font size=\"5\">Graph K-Coloring problem by Genetic Algorithm</font>"
   ]
  },
  {
   "cell_type": "code",
   "execution_count": 2,
   "id": "6132cd91-9874-4ca3-bdc0-b30c4557e307",
   "metadata": {},
   "outputs": [],
   "source": [
    "import numpy as np \n",
    "import igraph as ig\n",
    "import random\n",
    "import matplotlib.pyplot as plt\n",
    "import math"
   ]
  },
  {
   "cell_type": "code",
   "execution_count": 387,
   "id": "d85a8a63-5789-41e2-81a1-cf8553d62652",
   "metadata": {},
   "outputs": [
    {
     "data": {
      "text/plain": [
       "17"
      ]
     },
     "execution_count": 387,
     "metadata": {},
     "output_type": "execute_result"
    }
   ],
   "source": [
    "# Some constants\n",
    "# K: the number of colors\n",
    "# N: the number of nodes\n",
    "# nb_edges: number of 1\n",
    "# colors: a color list\n",
    "N = 10\n",
    "nb_edges = 30\n",
    "colors = ['grey',\"misty rose\",\"lime green\",\"royal blue\",\"red\",\"yellow\",\"purple\",\"orange\",\"brown\",\"blue\",\"green\",\"w\",\"navy\",\"olive\",\"lightcyan\",\"lightblue\",\"teal\"]\n",
    "len(colors)"
   ]
  },
  {
   "cell_type": "markdown",
   "id": "6060b09b-ed4a-47f5-b776-788fcb14d8fe",
   "metadata": {},
   "source": [
    "<font size=\"4\">6 steps</font>"
   ]
  },
  {
   "cell_type": "markdown",
   "id": "38886748-4417-4cf5-b90e-41e6bb98c2e6",
   "metadata": {},
   "source": [
    "<font size =\"4\" color=\"brown\">Step1: Randomly generate a N*N Symmetrical binary matrix and plot the graph</font>"
   ]
  },
  {
   "cell_type": "code",
   "execution_count": 388,
   "id": "ba8f9d3d-853e-4f47-b36e-a9a96f6b4c66",
   "metadata": {},
   "outputs": [],
   "source": [
    "## Generate graph with N vertices and nb_edges edges\n",
    "def create_graph(N,nb_edges):\n",
    "    g = ig.Graph()\n",
    "    g.add_vertices(N)\n",
    "\n",
    "    ## Now generate random edges\n",
    "    RandEdges = []\n",
    "    while len(RandEdges) < nb_edges:\n",
    "        RandEdge = random.sample(range(N), 2)\n",
    "        rev_RandEdge = [RandEdge[1],RandEdge[0]]\n",
    "        if RandEdge not in RandEdges and rev_RandEdge not in RandEdges:\n",
    "            RandEdges.append(RandEdge)\n",
    "    g.add_edges(RandEdges)\n",
    "    # ig.plot(g)\n",
    "    # print(g1)\n",
    "    return g"
   ]
  },
  {
   "cell_type": "code",
   "execution_count": 3,
   "id": "eb58e578-2004-4a14-b928-53416d7643f6",
   "metadata": {},
   "outputs": [],
   "source": [
    "RandEdge = random.sample(range(10), 2)"
   ]
  },
  {
   "cell_type": "code",
   "execution_count": 4,
   "id": "18920b65-f9c0-41c5-871c-3486b7418a59",
   "metadata": {},
   "outputs": [
    {
     "data": {
      "text/plain": [
       "[1, 4]"
      ]
     },
     "execution_count": 4,
     "metadata": {},
     "output_type": "execute_result"
    }
   ],
   "source": [
    "RandEdge"
   ]
  },
  {
   "cell_type": "code",
   "execution_count": 389,
   "id": "4b4dbf8d-985b-4ccb-a4f8-56b4d6fe7c8c",
   "metadata": {},
   "outputs": [
    {
     "data": {
      "image/svg+xml": "<?xml version=\"1.0\" encoding=\"UTF-8\"?>\n<svg xmlns=\"http://www.w3.org/2000/svg\" xmlns:xlink=\"http://www.w3.org/1999/xlink\" width=\"300pt\" height=\"300pt\" viewBox=\"0 0 300 300\" version=\"1.1\">\n<defs>\n<g>\n<symbol overflow=\"visible\" id=\"glyph0-0\">\n<path style=\"stroke:none;\" d=\"M 0.453125 0 L 0.453125 -10.042969 L 8.421875 -10.042969 L 8.421875 0 Z M 7.164062 -1.257812 L 7.164062 -8.785156 L 1.710938 -8.785156 L 1.710938 -1.257812 Z M 7.164062 -1.257812 \"/>\n</symbol>\n<symbol overflow=\"visible\" id=\"glyph0-1\">\n<path style=\"stroke:none;\" d=\"M 3.789062 -9.789062 C 5.054688 -9.789062 5.96875 -9.265625 6.535156 -8.222656 C 6.972656 -7.417969 7.191406 -6.3125 7.191406 -4.90625 C 7.191406 -3.578125 6.992188 -2.476562 6.597656 -1.605469 C 6.023438 -0.359375 5.082031 0.265625 3.78125 0.265625 C 2.605469 0.265625 1.730469 -0.242188 1.15625 -1.265625 C 0.675781 -2.117188 0.4375 -3.261719 0.4375 -4.695312 C 0.4375 -5.808594 0.582031 -6.761719 0.867188 -7.5625 C 1.40625 -9.046875 2.378906 -9.789062 3.789062 -9.789062 Z M 3.773438 -0.855469 C 4.410156 -0.855469 4.917969 -1.136719 5.296875 -1.703125 C 5.675781 -2.265625 5.867188 -3.320312 5.867188 -4.859375 C 5.867188 -5.972656 5.726562 -6.886719 5.453125 -7.605469 C 5.179688 -8.324219 4.652344 -8.679688 3.863281 -8.679688 C 3.136719 -8.679688 2.609375 -8.339844 2.273438 -7.660156 C 1.9375 -6.976562 1.769531 -5.976562 1.769531 -4.648438 C 1.769531 -3.648438 1.878906 -2.847656 2.09375 -2.242188 C 2.421875 -1.316406 2.980469 -0.855469 3.773438 -0.855469 Z M 3.773438 -0.855469 \"/>\n</symbol>\n<symbol overflow=\"visible\" id=\"glyph0-2\">\n<path style=\"stroke:none;\" d=\"M 1.339844 -6.929688 L 1.339844 -7.875 C 2.226562 -7.960938 2.847656 -8.105469 3.199219 -8.308594 C 3.550781 -8.511719 3.8125 -8.992188 3.984375 -9.75 L 4.957031 -9.75 L 4.957031 0 L 3.644531 0 L 3.644531 -6.929688 Z M 1.339844 -6.929688 \"/>\n</symbol>\n<symbol overflow=\"visible\" id=\"glyph0-3\">\n<path style=\"stroke:none;\" d=\"M 0.4375 0 C 0.484375 -0.84375 0.65625 -1.578125 0.960938 -2.203125 C 1.265625 -2.828125 1.855469 -3.394531 2.734375 -3.902344 L 4.046875 -4.664062 C 4.632812 -5.003906 5.046875 -5.296875 5.285156 -5.539062 C 5.65625 -5.914062 5.84375 -6.347656 5.84375 -6.835938 C 5.84375 -7.40625 5.671875 -7.859375 5.332031 -8.191406 C 4.992188 -8.527344 4.535156 -8.695312 3.964844 -8.695312 C 3.121094 -8.695312 2.539062 -8.375 2.214844 -7.738281 C 2.042969 -7.398438 1.945312 -6.921875 1.929688 -6.316406 L 0.675781 -6.316406 C 0.691406 -7.167969 0.847656 -7.863281 1.148438 -8.402344 C 1.679688 -9.351562 2.621094 -9.824219 3.972656 -9.824219 C 5.09375 -9.824219 5.910156 -9.519531 6.429688 -8.914062 C 6.945312 -8.308594 7.203125 -7.632812 7.203125 -6.890625 C 7.203125 -6.105469 6.929688 -5.4375 6.378906 -4.882812 C 6.058594 -4.558594 5.488281 -4.164062 4.664062 -3.703125 L 3.726562 -3.1875 C 3.28125 -2.941406 2.929688 -2.703125 2.671875 -2.480469 C 2.21875 -2.085938 1.929688 -1.644531 1.8125 -1.164062 L 7.15625 -1.164062 L 7.15625 0 Z M 0.4375 0 \"/>\n</symbol>\n<symbol overflow=\"visible\" id=\"glyph0-4\">\n<path style=\"stroke:none;\" d=\"M 3.636719 0.265625 C 2.480469 0.265625 1.640625 -0.0507812 1.117188 -0.6875 C 0.59375 -1.324219 0.335938 -2.097656 0.335938 -3.007812 L 1.621094 -3.007812 C 1.675781 -2.375 1.792969 -1.914062 1.976562 -1.625 C 2.296875 -1.109375 2.871094 -0.855469 3.703125 -0.855469 C 4.351562 -0.855469 4.871094 -1.027344 5.265625 -1.375 C 5.65625 -1.71875 5.851562 -2.167969 5.851562 -2.714844 C 5.851562 -3.390625 5.644531 -3.859375 5.234375 -4.128906 C 4.820312 -4.398438 4.246094 -4.53125 3.515625 -4.53125 C 3.433594 -4.53125 3.347656 -4.53125 3.265625 -4.527344 C 3.179688 -4.527344 3.09375 -4.523438 3.007812 -4.519531 L 3.007812 -5.605469 C 3.136719 -5.59375 3.242188 -5.582031 3.328125 -5.578125 C 3.414062 -5.574219 3.507812 -5.570312 3.609375 -5.570312 C 4.070312 -5.570312 4.449219 -5.644531 4.742188 -5.789062 C 5.261719 -6.046875 5.523438 -6.5 5.523438 -7.15625 C 5.523438 -7.644531 5.351562 -8.019531 5.003906 -8.285156 C 4.65625 -8.550781 4.253906 -8.679688 3.792969 -8.679688 C 2.972656 -8.679688 2.40625 -8.40625 2.09375 -7.859375 C 1.917969 -7.558594 1.820312 -7.132812 1.796875 -6.578125 L 0.582031 -6.578125 C 0.582031 -7.304688 0.726562 -7.925781 1.019531 -8.4375 C 1.519531 -9.347656 2.402344 -9.804688 3.664062 -9.804688 C 4.664062 -9.804688 5.433594 -9.582031 5.980469 -9.136719 C 6.527344 -8.691406 6.800781 -8.046875 6.800781 -7.203125 C 6.800781 -6.601562 6.640625 -6.117188 6.316406 -5.742188 C 6.117188 -5.507812 5.855469 -5.328125 5.539062 -5.195312 C 6.054688 -5.054688 6.453125 -4.78125 6.742188 -4.378906 C 7.03125 -3.976562 7.179688 -3.480469 7.179688 -2.898438 C 7.179688 -1.964844 6.871094 -1.203125 6.253906 -0.617188 C 5.640625 -0.0273438 4.765625 0.265625 3.636719 0.265625 Z M 3.636719 0.265625 \"/>\n</symbol>\n<symbol overflow=\"visible\" id=\"glyph0-5\">\n<path style=\"stroke:none;\" d=\"M 4.628906 -3.464844 L 4.628906 -7.902344 L 1.492188 -3.464844 Z M 4.648438 0 L 4.648438 -2.390625 L 0.355469 -2.390625 L 0.355469 -3.59375 L 4.839844 -9.816406 L 5.878906 -9.816406 L 5.878906 -3.464844 L 7.320312 -3.464844 L 7.320312 -2.390625 L 5.878906 -2.390625 L 5.878906 0 Z M 4.648438 0 \"/>\n</symbol>\n<symbol overflow=\"visible\" id=\"glyph0-6\">\n<path style=\"stroke:none;\" d=\"M 1.730469 -2.496094 C 1.8125 -1.792969 2.136719 -1.308594 2.707031 -1.039062 C 3 -0.902344 3.335938 -0.835938 3.71875 -0.835938 C 4.449219 -0.835938 4.988281 -1.066406 5.339844 -1.53125 C 5.691406 -1.996094 5.867188 -2.511719 5.867188 -3.078125 C 5.867188 -3.761719 5.65625 -4.289062 5.238281 -4.664062 C 4.820312 -5.035156 4.324219 -5.222656 3.738281 -5.222656 C 3.316406 -5.222656 2.953125 -5.140625 2.648438 -4.976562 C 2.34375 -4.8125 2.085938 -4.585938 1.875 -4.292969 L 0.804688 -4.355469 L 1.550781 -9.625 L 6.636719 -9.625 L 6.636719 -8.4375 L 2.476562 -8.4375 L 2.058594 -5.714844 C 2.285156 -5.886719 2.5 -6.019531 2.707031 -6.105469 C 3.070312 -6.253906 3.492188 -6.328125 3.972656 -6.328125 C 4.871094 -6.328125 5.628906 -6.039062 6.253906 -5.460938 C 6.878906 -4.882812 7.191406 -4.148438 7.191406 -3.261719 C 7.191406 -2.335938 6.90625 -1.519531 6.332031 -0.8125 C 5.761719 -0.105469 4.847656 0.246094 3.59375 0.246094 C 2.796875 0.246094 2.09375 0.0234375 1.480469 -0.425781 C 0.867188 -0.875 0.523438 -1.566406 0.453125 -2.496094 Z M 1.730469 -2.496094 \"/>\n</symbol>\n<symbol overflow=\"visible\" id=\"glyph0-7\">\n<path style=\"stroke:none;\" d=\"M 4.09375 -9.828125 C 5.1875 -9.828125 5.949219 -9.546875 6.382812 -8.980469 C 6.8125 -8.414062 7.027344 -7.828125 7.027344 -7.226562 L 5.8125 -7.226562 C 5.738281 -7.613281 5.621094 -7.914062 5.460938 -8.132812 C 5.164062 -8.542969 4.71875 -8.75 4.117188 -8.75 C 3.429688 -8.75 2.878906 -8.433594 2.476562 -7.796875 C 2.070312 -7.160156 1.84375 -6.25 1.796875 -5.066406 C 2.078125 -5.480469 2.4375 -5.789062 2.863281 -5.996094 C 3.257812 -6.179688 3.695312 -6.269531 4.175781 -6.269531 C 4.996094 -6.269531 5.710938 -6.007812 6.324219 -5.484375 C 6.933594 -4.960938 7.238281 -4.175781 7.238281 -3.136719 C 7.238281 -2.25 6.949219 -1.460938 6.371094 -0.777344 C 5.792969 -0.0898438 4.96875 0.253906 3.898438 0.253906 C 2.980469 0.253906 2.191406 -0.09375 1.523438 -0.789062 C 0.859375 -1.484375 0.527344 -2.65625 0.527344 -4.300781 C 0.527344 -5.515625 0.675781 -6.546875 0.96875 -7.398438 C 1.539062 -9.019531 2.582031 -9.828125 4.09375 -9.828125 Z M 4.007812 -0.839844 C 4.652344 -0.839844 5.136719 -1.058594 5.457031 -1.492188 C 5.78125 -1.929688 5.941406 -2.441406 5.941406 -3.035156 C 5.941406 -3.535156 5.796875 -4.015625 5.507812 -4.46875 C 5.222656 -4.921875 4.699219 -5.148438 3.945312 -5.148438 C 3.414062 -5.148438 2.953125 -4.972656 2.554688 -4.621094 C 2.15625 -4.269531 1.953125 -3.742188 1.953125 -3.035156 C 1.953125 -2.414062 2.136719 -1.894531 2.5 -1.472656 C 2.859375 -1.050781 3.363281 -0.839844 4.007812 -0.839844 Z M 4.007812 -0.839844 \"/>\n</symbol>\n<symbol overflow=\"visible\" id=\"glyph0-8\">\n<path style=\"stroke:none;\" d=\"M 7.320312 -9.625 L 7.320312 -8.550781 C 7.007812 -8.246094 6.589844 -7.714844 6.066406 -6.960938 C 5.546875 -6.203125 5.082031 -5.386719 4.683594 -4.511719 C 4.285156 -3.660156 3.984375 -2.882812 3.78125 -2.179688 C 3.648438 -1.730469 3.476562 -1.003906 3.265625 0 L 1.90625 0 C 2.21875 -1.867188 2.902344 -3.726562 3.957031 -5.578125 C 4.582031 -6.664062 5.238281 -7.597656 5.925781 -8.386719 L 0.511719 -8.386719 L 0.511719 -9.625 Z M 7.320312 -9.625 \"/>\n</symbol>\n<symbol overflow=\"visible\" id=\"glyph0-9\">\n<path style=\"stroke:none;\" d=\"M 3.808594 -5.6875 C 4.351562 -5.6875 4.773438 -5.839844 5.078125 -6.140625 C 5.382812 -6.445312 5.539062 -6.804688 5.539062 -7.226562 C 5.539062 -7.589844 5.390625 -7.925781 5.101562 -8.230469 C 4.808594 -8.535156 4.363281 -8.6875 3.765625 -8.6875 C 3.171875 -8.6875 2.746094 -8.535156 2.480469 -8.230469 C 2.21875 -7.925781 2.085938 -7.566406 2.085938 -7.15625 C 2.085938 -6.695312 2.257812 -6.335938 2.597656 -6.078125 C 2.9375 -5.816406 3.34375 -5.6875 3.808594 -5.6875 Z M 3.882812 -0.839844 C 4.453125 -0.839844 4.925781 -0.996094 5.300781 -1.300781 C 5.675781 -1.609375 5.867188 -2.070312 5.867188 -2.679688 C 5.867188 -3.3125 5.671875 -3.792969 5.285156 -4.121094 C 4.898438 -4.449219 4.398438 -4.613281 3.792969 -4.613281 C 3.207031 -4.613281 2.726562 -4.445312 2.355469 -4.113281 C 1.984375 -3.777344 1.796875 -3.3125 1.796875 -2.71875 C 1.796875 -2.210938 1.96875 -1.769531 2.308594 -1.398438 C 2.648438 -1.027344 3.171875 -0.839844 3.882812 -0.839844 Z M 2.132812 -5.214844 C 1.789062 -5.359375 1.523438 -5.53125 1.332031 -5.726562 C 0.972656 -6.09375 0.792969 -6.566406 0.792969 -7.148438 C 0.792969 -7.878906 1.058594 -8.507812 1.585938 -9.03125 C 2.113281 -9.554688 2.863281 -9.816406 3.835938 -9.816406 C 4.773438 -9.816406 5.507812 -9.570312 6.042969 -9.074219 C 6.578125 -8.578125 6.84375 -8.003906 6.84375 -7.34375 C 6.84375 -6.730469 6.6875 -6.238281 6.378906 -5.859375 C 6.203125 -5.644531 5.9375 -5.433594 5.570312 -5.230469 C 5.976562 -5.042969 6.296875 -4.828125 6.527344 -4.585938 C 6.960938 -4.132812 7.179688 -3.539062 7.179688 -2.808594 C 7.179688 -1.949219 6.886719 -1.21875 6.308594 -0.617188 C 5.730469 -0.0195312 4.914062 0.28125 3.855469 0.28125 C 2.902344 0.28125 2.097656 0.0234375 1.4375 -0.496094 C 0.78125 -1.011719 0.453125 -1.765625 0.453125 -2.75 C 0.453125 -3.328125 0.59375 -3.828125 0.875 -4.25 C 1.15625 -4.671875 1.578125 -4.992188 2.132812 -5.214844 Z M 2.132812 -5.214844 \"/>\n</symbol>\n<symbol overflow=\"visible\" id=\"glyph0-10\">\n<path style=\"stroke:none;\" d=\"M 1.859375 -2.367188 C 1.894531 -1.6875 2.15625 -1.21875 2.644531 -0.957031 C 2.894531 -0.820312 3.179688 -0.75 3.492188 -0.75 C 4.082031 -0.75 4.582031 -0.996094 4.996094 -1.488281 C 5.410156 -1.976562 5.707031 -2.972656 5.878906 -4.46875 C 5.605469 -4.039062 5.265625 -3.734375 4.863281 -3.558594 C 4.460938 -3.382812 4.027344 -3.296875 3.5625 -3.296875 C 2.617188 -3.296875 1.871094 -3.589844 1.324219 -4.175781 C 0.773438 -4.765625 0.5 -5.519531 0.5 -6.445312 C 0.5 -7.335938 0.769531 -8.117188 1.3125 -8.789062 C 1.855469 -9.464844 2.65625 -9.804688 3.710938 -9.804688 C 5.136719 -9.804688 6.121094 -9.160156 6.664062 -7.875 C 6.964844 -7.167969 7.117188 -6.285156 7.117188 -5.222656 C 7.117188 -4.023438 6.9375 -2.960938 6.578125 -2.039062 C 5.980469 -0.496094 4.96875 0.273438 3.539062 0.273438 C 2.582031 0.273438 1.855469 0.0234375 1.359375 -0.476562 C 0.863281 -0.980469 0.617188 -1.609375 0.617188 -2.367188 Z M 3.726562 -4.375 C 4.214844 -4.375 4.660156 -4.535156 5.0625 -4.855469 C 5.464844 -5.179688 5.667969 -5.738281 5.667969 -6.542969 C 5.667969 -7.261719 5.484375 -7.796875 5.125 -8.152344 C 4.761719 -8.503906 4.300781 -8.679688 3.738281 -8.679688 C 3.136719 -8.679688 2.660156 -8.480469 2.308594 -8.078125 C 1.953125 -7.671875 1.777344 -7.132812 1.777344 -6.460938 C 1.777344 -5.820312 1.933594 -5.316406 2.242188 -4.9375 C 2.550781 -4.5625 3.046875 -4.375 3.726562 -4.375 Z M 3.726562 -4.375 \"/>\n</symbol>\n</g>\n</defs>\n<g id=\"surface7830\">\n<rect x=\"0\" y=\"0\" width=\"300\" height=\"300\" style=\"fill:rgb(100%,100%,100%);fill-opacity:1;stroke:none;\"/>\n<path style=\"fill:none;stroke-width:1;stroke-linecap:butt;stroke-linejoin:miter;stroke:rgb(26.666667%,26.666667%,26.666667%);stroke-opacity:1;stroke-miterlimit:10;\" d=\"M 20 126.4375 L 120.828125 110.535156 \"/>\n<path style=\"fill:none;stroke-width:1;stroke-linecap:butt;stroke-linejoin:miter;stroke:rgb(26.666667%,26.666667%,26.666667%);stroke-opacity:1;stroke-miterlimit:10;\" d=\"M 187.539062 216.019531 L 87.152344 184.375 \"/>\n<path style=\"fill:none;stroke-width:1;stroke-linecap:butt;stroke-linejoin:miter;stroke:rgb(26.666667%,26.666667%,26.666667%);stroke-opacity:1;stroke-miterlimit:10;\" d=\"M 87.152344 184.375 L 67.542969 242.746094 \"/>\n<path style=\"fill:none;stroke-width:1;stroke-linecap:butt;stroke-linejoin:miter;stroke:rgb(26.666667%,26.666667%,26.666667%);stroke-opacity:1;stroke-miterlimit:10;\" d=\"M 187.539062 216.019531 L 280 136.085938 \"/>\n<path style=\"fill:none;stroke-width:1;stroke-linecap:butt;stroke-linejoin:miter;stroke:rgb(26.666667%,26.666667%,26.666667%);stroke-opacity:1;stroke-miterlimit:10;\" d=\"M 271.363281 253.367188 L 148.949219 280 \"/>\n<path style=\"fill:none;stroke-width:1;stroke-linecap:butt;stroke-linejoin:miter;stroke:rgb(26.666667%,26.666667%,26.666667%);stroke-opacity:1;stroke-miterlimit:10;\" d=\"M 87.152344 184.375 L 148.949219 280 \"/>\n<path style=\"fill:none;stroke-width:1;stroke-linecap:butt;stroke-linejoin:miter;stroke:rgb(26.666667%,26.666667%,26.666667%);stroke-opacity:1;stroke-miterlimit:10;\" d=\"M 101.648438 20 L 120.828125 110.535156 \"/>\n<path style=\"fill:none;stroke-width:1;stroke-linecap:butt;stroke-linejoin:miter;stroke:rgb(26.666667%,26.666667%,26.666667%);stroke-opacity:1;stroke-miterlimit:10;\" d=\"M 187.539062 216.019531 L 20 126.4375 \"/>\n<path style=\"fill:none;stroke-width:1;stroke-linecap:butt;stroke-linejoin:miter;stroke:rgb(26.666667%,26.666667%,26.666667%);stroke-opacity:1;stroke-miterlimit:10;\" d=\"M 179.585938 146.359375 L 148.949219 280 \"/>\n<path style=\"fill:none;stroke-width:1;stroke-linecap:butt;stroke-linejoin:miter;stroke:rgb(26.666667%,26.666667%,26.666667%);stroke-opacity:1;stroke-miterlimit:10;\" d=\"M 280 136.085938 L 120.828125 110.535156 \"/>\n<path style=\"fill:none;stroke-width:1;stroke-linecap:butt;stroke-linejoin:miter;stroke:rgb(26.666667%,26.666667%,26.666667%);stroke-opacity:1;stroke-miterlimit:10;\" d=\"M 187.539062 216.019531 L 179.585938 146.359375 \"/>\n<path style=\"fill:none;stroke-width:1;stroke-linecap:butt;stroke-linejoin:miter;stroke:rgb(26.666667%,26.666667%,26.666667%);stroke-opacity:1;stroke-miterlimit:10;\" d=\"M 280 136.085938 L 87.152344 184.375 \"/>\n<path style=\"fill:none;stroke-width:1;stroke-linecap:butt;stroke-linejoin:miter;stroke:rgb(26.666667%,26.666667%,26.666667%);stroke-opacity:1;stroke-miterlimit:10;\" d=\"M 187.539062 216.019531 L 67.542969 242.746094 \"/>\n<path style=\"fill:none;stroke-width:1;stroke-linecap:butt;stroke-linejoin:miter;stroke:rgb(26.666667%,26.666667%,26.666667%);stroke-opacity:1;stroke-miterlimit:10;\" d=\"M 179.585938 146.359375 L 271.363281 253.367188 \"/>\n<path style=\"fill:none;stroke-width:1;stroke-linecap:butt;stroke-linejoin:miter;stroke:rgb(26.666667%,26.666667%,26.666667%);stroke-opacity:1;stroke-miterlimit:10;\" d=\"M 87.152344 184.375 L 120.828125 110.535156 \"/>\n<path style=\"fill:none;stroke-width:1;stroke-linecap:butt;stroke-linejoin:miter;stroke:rgb(26.666667%,26.666667%,26.666667%);stroke-opacity:1;stroke-miterlimit:10;\" d=\"M 179.585938 146.359375 L 120.828125 110.535156 \"/>\n<path style=\"fill:none;stroke-width:1;stroke-linecap:butt;stroke-linejoin:miter;stroke:rgb(26.666667%,26.666667%,26.666667%);stroke-opacity:1;stroke-miterlimit:10;\" d=\"M 187.539062 216.019531 L 148.949219 280 \"/>\n<path style=\"fill:none;stroke-width:1;stroke-linecap:butt;stroke-linejoin:miter;stroke:rgb(26.666667%,26.666667%,26.666667%);stroke-opacity:1;stroke-miterlimit:10;\" d=\"M 179.585938 146.359375 L 87.152344 184.375 \"/>\n<path style=\"fill:none;stroke-width:1;stroke-linecap:butt;stroke-linejoin:miter;stroke:rgb(26.666667%,26.666667%,26.666667%);stroke-opacity:1;stroke-miterlimit:10;\" d=\"M 20 126.4375 L 87.152344 184.375 \"/>\n<path style=\"fill:none;stroke-width:1;stroke-linecap:butt;stroke-linejoin:miter;stroke:rgb(26.666667%,26.666667%,26.666667%);stroke-opacity:1;stroke-miterlimit:10;\" d=\"M 148.949219 280 L 120.828125 110.535156 \"/>\n<path style=\"fill:none;stroke-width:1;stroke-linecap:butt;stroke-linejoin:miter;stroke:rgb(26.666667%,26.666667%,26.666667%);stroke-opacity:1;stroke-miterlimit:10;\" d=\"M 271.363281 253.367188 L 67.542969 242.746094 \"/>\n<path style=\"fill:none;stroke-width:1;stroke-linecap:butt;stroke-linejoin:miter;stroke:rgb(26.666667%,26.666667%,26.666667%);stroke-opacity:1;stroke-miterlimit:10;\" d=\"M 101.648438 20 L 20 126.4375 \"/>\n<path style=\"fill:none;stroke-width:1;stroke-linecap:butt;stroke-linejoin:miter;stroke:rgb(26.666667%,26.666667%,26.666667%);stroke-opacity:1;stroke-miterlimit:10;\" d=\"M 148.949219 280 L 67.542969 242.746094 \"/>\n<path style=\"fill:none;stroke-width:1;stroke-linecap:butt;stroke-linejoin:miter;stroke:rgb(26.666667%,26.666667%,26.666667%);stroke-opacity:1;stroke-miterlimit:10;\" d=\"M 101.648438 20 L 179.585938 146.359375 \"/>\n<path style=\"fill:none;stroke-width:1;stroke-linecap:butt;stroke-linejoin:miter;stroke:rgb(26.666667%,26.666667%,26.666667%);stroke-opacity:1;stroke-miterlimit:10;\" d=\"M 280 136.085938 L 271.363281 253.367188 \"/>\n<path style=\"fill:none;stroke-width:1;stroke-linecap:butt;stroke-linejoin:miter;stroke:rgb(26.666667%,26.666667%,26.666667%);stroke-opacity:1;stroke-miterlimit:10;\" d=\"M 280 136.085938 L 179.585938 146.359375 \"/>\n<path style=\"fill:none;stroke-width:1;stroke-linecap:butt;stroke-linejoin:miter;stroke:rgb(26.666667%,26.666667%,26.666667%);stroke-opacity:1;stroke-miterlimit:10;\" d=\"M 120.828125 110.535156 L 67.542969 242.746094 \"/>\n<path style=\"fill:none;stroke-width:1;stroke-linecap:butt;stroke-linejoin:miter;stroke:rgb(26.666667%,26.666667%,26.666667%);stroke-opacity:1;stroke-miterlimit:10;\" d=\"M 179.585938 146.359375 L 20 126.4375 \"/>\n<path style=\"fill:none;stroke-width:1;stroke-linecap:butt;stroke-linejoin:miter;stroke:rgb(26.666667%,26.666667%,26.666667%);stroke-opacity:1;stroke-miterlimit:10;\" d=\"M 20 126.4375 L 67.542969 242.746094 \"/>\n<path style=\"fill:none;stroke-width:1;stroke-linecap:butt;stroke-linejoin:miter;stroke:rgb(26.666667%,26.666667%,26.666667%);stroke-opacity:1;stroke-miterlimit:10;\" d=\"M 179.585938 146.359375 L 67.542969 242.746094 \"/>\n<path style=\"fill-rule:nonzero;fill:rgb(74.509804%,74.509804%,74.509804%);fill-opacity:1;stroke-width:1;stroke-linecap:butt;stroke-linejoin:miter;stroke:rgb(0%,0%,0%);stroke-opacity:1;stroke-miterlimit:10;\" d=\"M 111.648438 20 C 111.648438 25.523438 107.171875 30 101.648438 30 C 96.125 30 91.648438 25.523438 91.648438 20 C 91.648438 14.476562 96.125 10 101.648438 10 C 107.171875 10 111.648438 14.476562 111.648438 20 \"/>\n<path style=\"fill-rule:nonzero;fill:rgb(74.509804%,74.509804%,74.509804%);fill-opacity:1;stroke-width:1;stroke-linecap:butt;stroke-linejoin:miter;stroke:rgb(0%,0%,0%);stroke-opacity:1;stroke-miterlimit:10;\" d=\"M 197.539062 216.019531 C 197.539062 221.542969 193.0625 226.019531 187.539062 226.019531 C 182.015625 226.019531 177.539062 221.542969 177.539062 216.019531 C 177.539062 210.496094 182.015625 206.019531 187.539062 206.019531 C 193.0625 206.019531 197.539062 210.496094 197.539062 216.019531 \"/>\n<path style=\"fill-rule:nonzero;fill:rgb(74.509804%,74.509804%,74.509804%);fill-opacity:1;stroke-width:1;stroke-linecap:butt;stroke-linejoin:miter;stroke:rgb(0%,0%,0%);stroke-opacity:1;stroke-miterlimit:10;\" d=\"M 290 136.085938 C 290 141.609375 285.523438 146.085938 280 146.085938 C 274.476562 146.085938 270 141.609375 270 136.085938 C 270 130.566406 274.476562 126.085938 280 126.085938 C 285.523438 126.085938 290 130.566406 290 136.085938 \"/>\n<path style=\"fill-rule:nonzero;fill:rgb(74.509804%,74.509804%,74.509804%);fill-opacity:1;stroke-width:1;stroke-linecap:butt;stroke-linejoin:miter;stroke:rgb(0%,0%,0%);stroke-opacity:1;stroke-miterlimit:10;\" d=\"M 189.585938 146.359375 C 189.585938 151.882812 185.109375 156.359375 179.585938 156.359375 C 174.0625 156.359375 169.585938 151.882812 169.585938 146.359375 C 169.585938 140.835938 174.0625 136.359375 179.585938 136.359375 C 185.109375 136.359375 189.585938 140.835938 189.585938 146.359375 \"/>\n<path style=\"fill-rule:nonzero;fill:rgb(74.509804%,74.509804%,74.509804%);fill-opacity:1;stroke-width:1;stroke-linecap:butt;stroke-linejoin:miter;stroke:rgb(0%,0%,0%);stroke-opacity:1;stroke-miterlimit:10;\" d=\"M 281.363281 253.367188 C 281.363281 258.890625 276.886719 263.367188 271.363281 263.367188 C 265.839844 263.367188 261.363281 258.890625 261.363281 253.367188 C 261.363281 247.84375 265.839844 243.367188 271.363281 243.367188 C 276.886719 243.367188 281.363281 247.84375 281.363281 253.367188 \"/>\n<path style=\"fill-rule:nonzero;fill:rgb(74.509804%,74.509804%,74.509804%);fill-opacity:1;stroke-width:1;stroke-linecap:butt;stroke-linejoin:miter;stroke:rgb(0%,0%,0%);stroke-opacity:1;stroke-miterlimit:10;\" d=\"M 30 126.4375 C 30 131.960938 25.523438 136.4375 20 136.4375 C 14.476562 136.4375 10 131.960938 10 126.4375 C 10 120.914062 14.476562 116.4375 20 116.4375 C 25.523438 116.4375 30 120.914062 30 126.4375 \"/>\n<path style=\"fill-rule:nonzero;fill:rgb(74.509804%,74.509804%,74.509804%);fill-opacity:1;stroke-width:1;stroke-linecap:butt;stroke-linejoin:miter;stroke:rgb(0%,0%,0%);stroke-opacity:1;stroke-miterlimit:10;\" d=\"M 97.152344 184.375 C 97.152344 189.898438 92.675781 194.375 87.152344 194.375 C 81.628906 194.375 77.152344 189.898438 77.152344 184.375 C 77.152344 178.855469 81.628906 174.375 87.152344 174.375 C 92.675781 174.375 97.152344 178.855469 97.152344 184.375 \"/>\n<path style=\"fill-rule:nonzero;fill:rgb(74.509804%,74.509804%,74.509804%);fill-opacity:1;stroke-width:1;stroke-linecap:butt;stroke-linejoin:miter;stroke:rgb(0%,0%,0%);stroke-opacity:1;stroke-miterlimit:10;\" d=\"M 158.949219 280 C 158.949219 285.523438 154.46875 290 148.949219 290 C 143.425781 290 138.949219 285.523438 138.949219 280 C 138.949219 274.476562 143.425781 270 148.949219 270 C 154.46875 270 158.949219 274.476562 158.949219 280 \"/>\n<path style=\"fill-rule:nonzero;fill:rgb(74.509804%,74.509804%,74.509804%);fill-opacity:1;stroke-width:1;stroke-linecap:butt;stroke-linejoin:miter;stroke:rgb(0%,0%,0%);stroke-opacity:1;stroke-miterlimit:10;\" d=\"M 130.828125 110.535156 C 130.828125 116.058594 126.351562 120.535156 120.828125 120.535156 C 115.304688 120.535156 110.828125 116.058594 110.828125 110.535156 C 110.828125 105.011719 115.304688 100.535156 120.828125 100.535156 C 126.351562 100.535156 130.828125 105.011719 130.828125 110.535156 \"/>\n<path style=\"fill-rule:nonzero;fill:rgb(74.509804%,74.509804%,74.509804%);fill-opacity:1;stroke-width:1;stroke-linecap:butt;stroke-linejoin:miter;stroke:rgb(0%,0%,0%);stroke-opacity:1;stroke-miterlimit:10;\" d=\"M 77.542969 242.746094 C 77.542969 248.269531 73.0625 252.746094 67.542969 252.746094 C 62.019531 252.746094 57.542969 248.269531 57.542969 242.746094 C 57.542969 237.222656 62.019531 232.746094 67.542969 232.746094 C 73.0625 232.746094 77.542969 237.222656 77.542969 242.746094 \"/>\n<g style=\"fill:rgb(0%,0%,0%);fill-opacity:1;\">\n  <use xlink:href=\"#glyph0-1\" x=\"97.835938\" y=\"26.503906\"/>\n</g>\n<g style=\"fill:rgb(0%,0%,0%);fill-opacity:1;\">\n  <use xlink:href=\"#glyph0-2\" x=\"184.390625\" y=\"222.503906\"/>\n</g>\n<g style=\"fill:rgb(0%,0%,0%);fill-opacity:1;\">\n  <use xlink:href=\"#glyph0-3\" x=\"276.179688\" y=\"142.609375\"/>\n</g>\n<g style=\"fill:rgb(0%,0%,0%);fill-opacity:1;\">\n  <use xlink:href=\"#glyph0-4\" x=\"175.828125\" y=\"152.871094\"/>\n</g>\n<g style=\"fill:rgb(0%,0%,0%);fill-opacity:1;\">\n  <use xlink:href=\"#glyph0-5\" x=\"267.523438\" y=\"259.886719\"/>\n</g>\n<g style=\"fill:rgb(0%,0%,0%);fill-opacity:1;\">\n  <use xlink:href=\"#glyph0-6\" x=\"16.179688\" y=\"132.859375\"/>\n</g>\n<g style=\"fill:rgb(0%,0%,0%);fill-opacity:1;\">\n  <use xlink:href=\"#glyph0-7\" x=\"83.269531\" y=\"190.902344\"/>\n</g>\n<g style=\"fill:rgb(0%,0%,0%);fill-opacity:1;\">\n  <use xlink:href=\"#glyph0-8\" x=\"145.03125\" y=\"286.421875\"/>\n</g>\n<g style=\"fill:rgb(0%,0%,0%);fill-opacity:1;\">\n  <use xlink:href=\"#glyph0-9\" x=\"117.015625\" y=\"117.054688\"/>\n</g>\n<g style=\"fill:rgb(0%,0%,0%);fill-opacity:1;\">\n  <use xlink:href=\"#glyph0-10\" x=\"63.734375\" y=\"249.257812\"/>\n</g>\n</g>\n</svg>\n",
      "text/plain": [
       "<igraph.drawing.Plot at 0x7fdb5b678b20>"
      ]
     },
     "execution_count": 389,
     "metadata": {
      "image/svg+xml": {
       "isolated": true
      }
     },
     "output_type": "execute_result"
    }
   ],
   "source": [
    "g1 = create_graph(N,nb_edges)\n",
    "\n",
    "g1.vs['value'] = [0] * N\n",
    "visual_style={}\n",
    "# visual_style['layout'] =g1.layout_circle()\n",
    "visual_style['layout'] =g1.layout_kamada_kawai()\n",
    "visual_style['bbox'] = (300,300)\n",
    "visual_style['vertex_color'] = [colors[i] for i in g1.vs['value']]\n",
    "visual_style[\"vertex_label\"] = [i for i in range(0,N)]\n",
    "ig.plot(g1,**visual_style)"
   ]
  },
  {
   "cell_type": "code",
   "execution_count": 390,
   "id": "02218333-c4b3-4058-b7ac-4d417794f097",
   "metadata": {},
   "outputs": [
    {
     "name": "stdout",
     "output_type": "stream",
     "text": [
      "max_degree = 9\n",
      "So we have to choose at least 9 colors\n"
     ]
    }
   ],
   "source": [
    "# choose K colors, K >= max_degree\n",
    "max_degree = max(g1.degree())\n",
    "print('max_degree = {}'.format(max_degree))\n",
    "K = max_degree\n",
    "print('So we have to choose at least {} colors'.format(K))"
   ]
  },
  {
   "cell_type": "markdown",
   "id": "ef424dce-1b82-4fac-9e00-125792cee353",
   "metadata": {},
   "source": [
    "<font size=\"4\" color=\"brown\">Step2: Define a function to create initial population</font>"
   ]
  },
  {
   "cell_type": "code",
   "execution_count": 391,
   "id": "1a2cac56-16ac-432c-ab6d-665da7240e6e",
   "metadata": {},
   "outputs": [
    {
     "data": {
      "text/plain": [
       "array([[5, 8, 4, 8, 5, 8, 5, 5, 8, 2],\n",
       "       [3, 4, 6, 8, 7, 1, 4, 6, 7, 8],\n",
       "       [4, 4, 6, 6, 7, 9, 4, 5, 2, 7],\n",
       "       [6, 3, 4, 5, 1, 2, 4, 5, 1, 7],\n",
       "       [8, 2, 2, 7, 5, 6, 4, 6, 7, 2],\n",
       "       [2, 1, 2, 6, 6, 1, 2, 2, 5, 3],\n",
       "       [9, 9, 7, 9, 9, 4, 2, 5, 3, 6],\n",
       "       [3, 2, 8, 9, 1, 8, 9, 2, 6, 8],\n",
       "       [6, 3, 8, 1, 5, 1, 3, 9, 7, 3],\n",
       "       [6, 5, 9, 6, 3, 4, 1, 7, 1, 2]])"
      ]
     },
     "execution_count": 391,
     "metadata": {},
     "output_type": "execute_result"
    }
   ],
   "source": [
    "# generate a ramdom array with range(1,K+1),size is N*N\n",
    "def initial_population(K,N):\n",
    "    arr = np.random.randint(low = 1,high=K+1, size=(N,N))\n",
    "    return arr\n",
    "ini_pop = initial_population(K,N)\n",
    "ini_pop"
   ]
  },
  {
   "cell_type": "markdown",
   "id": "8bd98feb-01db-4d4b-8cc9-ebcdc94b241f",
   "metadata": {},
   "source": [
    "<font size=\"4\" color=\"brown\">Step3: Define a fitness function with conditions to determine the optimal solution</font>"
   ]
  },
  {
   "cell_type": "code",
   "execution_count": 392,
   "id": "34426fa0-2f90-45ea-a513-ba91edcc2b90",
   "metadata": {},
   "outputs": [],
   "source": [
    "# if the elements in the matrix are labeled with 1 \n",
    "#and the colors on the two vertices are same\n",
    "# then the fitness score increases by one\n",
    "# the solution with lowest finess score is considered as the optimal solution\n",
    "# the number of edges which has two same colored vertices\n"
   ]
  },
  {
   "cell_type": "markdown",
   "id": "61be6cc6-9cbe-4391-916c-c5d95e8f7696",
   "metadata": {},
   "source": [
    "<font size=4>Fitness score1</font>"
   ]
  },
  {
   "cell_type": "code",
   "execution_count": 393,
   "id": "d33200f4-925d-4a47-82ee-c102c08263c5",
   "metadata": {},
   "outputs": [],
   "source": [
    "# calculate the fitness score for one solution\n",
    "def fitness_score1(g,solution):\n",
    "    score = 0\n",
    "    # iterate all the edges in the graph g\n",
    "    for es in g.es:\n",
    "        source_vs_id = es.source\n",
    "        target_vs_id = es.target\n",
    "        if(solution[source_vs_id]==solution[target_vs_id]):\n",
    "            score = score + 1\n",
    "    return score"
   ]
  },
  {
   "cell_type": "markdown",
   "id": "ac347b86-204f-46f5-bdb9-b8d4ccf331c7",
   "metadata": {},
   "source": [
    "<font size=4>Fitness score2</font>"
   ]
  },
  {
   "cell_type": "code",
   "execution_count": 394,
   "id": "a694fb8d-6410-4a4d-9b7d-3541f1925fe6",
   "metadata": {},
   "outputs": [],
   "source": [
    "def fitness_score2(g,solution):\n",
    "    score = 0\n",
    "    # iterate all the edges in the graph g\n",
    "    for es in g.es:\n",
    "        source_vs_id = es.source\n",
    "        target_vs_id = es.target\n",
    "        if(solution[source_vs_id]==solution[target_vs_id]):\n",
    "            score = score + g.vs[source_vs_id].degree()+g.vs[target_vs_id].degree()\n",
    "    return score"
   ]
  },
  {
   "cell_type": "code",
   "execution_count": 395,
   "id": "d5e89824-67cc-4605-9fd4-424d5cd15e6f",
   "metadata": {},
   "outputs": [],
   "source": [
    "# calculate the fitness scores for the initial population\n",
    "def fitness_scores1(g,ini_pop):\n",
    "    scores = []\n",
    "    for s in ini_pop:\n",
    "        score = fitness_score1(g,s)\n",
    "        scores.append(score)\n",
    "    return scores\n",
    "\n",
    "def fitness_scores2(g,ini_pop):\n",
    "    scores = []\n",
    "    for s in ini_pop:\n",
    "        score = fitness_score2(g,s)\n",
    "        scores.append(score)\n",
    "    return scores"
   ]
  },
  {
   "cell_type": "code",
   "execution_count": 396,
   "id": "57367874-0eab-49a0-a5a2-e4aa39d2ecb2",
   "metadata": {},
   "outputs": [
    {
     "name": "stdout",
     "output_type": "stream",
     "text": [
      "scores1:[7, 2, 3, 2, 3, 4, 3, 3, 4, 2] \n",
      "scores2:[94, 29, 38, 27, 40, 50, 40, 41, 55, 26]\n"
     ]
    }
   ],
   "source": [
    "scores1 =fitness_scores1(g1,ini_pop)\n",
    "scores2 =fitness_scores2(g1,ini_pop)\n",
    "print(\"scores1:{} \\nscores2:{}\".format(scores1,scores2))"
   ]
  },
  {
   "cell_type": "markdown",
   "id": "48b0fc42-969c-48f7-aae4-be4e920d2122",
   "metadata": {},
   "source": [
    "<font size=\"4\">Selection: select the top 2 from initial population</font>"
   ]
  },
  {
   "cell_type": "code",
   "execution_count": 397,
   "id": "93aab29c-8fe5-4748-9590-6486de301e04",
   "metadata": {},
   "outputs": [],
   "source": [
    "def selection(g,scores):\n",
    "    top1 = []\n",
    "    top2 = []\n",
    "    scores1 = scores.copy()\n",
    "    for i in range(2):\n",
    "        min_score = min(scores1)\n",
    "        while min_score in scores1:\n",
    "            index = scores1.index(min_score)\n",
    "            scores1[index]=np.inf\n",
    "            if i ==0:\n",
    "                top1.append(index)\n",
    "            else:\n",
    "                top2.append(index)\n",
    "    return top1,top2"
   ]
  },
  {
   "cell_type": "code",
   "execution_count": 398,
   "id": "f6e623bb-c479-4574-b71e-93e3e285965f",
   "metadata": {},
   "outputs": [
    {
     "name": "stdout",
     "output_type": "stream",
     "text": [
      "in scores1:\n",
      "top1:[1, 3, 9]\n",
      "top2:[2, 4, 6, 7]\n",
      "in scores2:\n",
      "top1:[9]\n",
      "top2:[3]\n"
     ]
    }
   ],
   "source": [
    "top1_1,top1_2 = selection(g1,scores1)\n",
    "print(\"in scores1:\\ntop1:{}\\ntop2:{}\".format(top1_1,top1_2))\n",
    "top2_1,top2_2 = selection(g1,scores2)\n",
    "print(\"in scores2:\\ntop1:{}\\ntop2:{}\".format(top2_1,top2_2))"
   ]
  },
  {
   "cell_type": "code",
   "execution_count": 399,
   "id": "df26846b-ad99-46c9-9573-50d54f38d9c3",
   "metadata": {},
   "outputs": [],
   "source": [
    "# Define a plot function to plot the optimal solution on the graph\n",
    "def solotion_plot(g,solution,i):\n",
    "    g.vs['value'] = solution\n",
    "    visual_style['vertex_color'] = [colors[i] for i in g.vs['value']]\n",
    "    visual_style[\"vertex_label\"] = [i for i in range(0,N)]\n",
    "    # print(solution)\n",
    "    ig.plot(g,\"solution{}.pdf\".format(i),**visual_style)"
   ]
  },
  {
   "cell_type": "markdown",
   "id": "c74ffe44-e7f7-47d5-82ee-62724c24836c",
   "metadata": {},
   "source": [
    "<font size =\"4\" color=\"brown\">Step4: define a crossover and mutation function</font>"
   ]
  },
  {
   "cell_type": "markdown",
   "id": "47395423-86a2-413f-ac4a-8ae919eb2232",
   "metadata": {},
   "source": [
    "<font size=\"3\">Method1: Element cross over</font>"
   ]
  },
  {
   "cell_type": "code",
   "execution_count": 452,
   "id": "dd86c075-552e-4e05-b930-f6e7a23a5815",
   "metadata": {},
   "outputs": [],
   "source": [
    "def element_cross(scores,ini_pop,ini_pop_index1,ini_pop_index2,fitness_scores):\n",
    "    score1 = scores[ini_pop_index1]\n",
    "    score2 = scores[ini_pop_index2]\n",
    "    s_small = min(score1,score2)\n",
    "    ini_pop1 = ini_pop[ini_pop_index1]\n",
    "    ini_pop2 = ini_pop[ini_pop_index2]\n",
    "    ini_pops = [ini_pop1,ini_pop2]\n",
    "    solutions = []\n",
    "    solutions.append(ini_pops)\n",
    "    s_smalls = []\n",
    "    s_smalls.append(s_small)\n",
    "    i=nb_edges*10\n",
    "    # When fitness score = 0 or iteration=100 stop\n",
    "    while s_small !=0 and i !=0:\n",
    "        i = i - 1\n",
    "        # genrage a radom integer in range(N)\n",
    "        p = random.randint(0,N-1)\n",
    "        # element crossover\n",
    "        temp = ini_pops[0][p]\n",
    "        ini_pops[0][p] = ini_pops[1][p]\n",
    "        ini_pops[1][p] = temp\n",
    "        s = fitness_scores(g1,ini_pops)\n",
    "        solutions.append(ini_pops)\n",
    "        s_small = min(s)\n",
    "        s_smalls.append(s_small)\n",
    "        if s_small ==0:\n",
    "            index=s.index(0)\n",
    "            # solotion_plot(g1,ini_pops[index],i)\n",
    "            # print(\"solution{} is:{}\".format(nb_edges*10-i,ini_pops[index]))\n",
    "    nb_iteration = nb_edges*10-i    \n",
    "    return s_smalls, solutions,nb_iteration "
   ]
  },
  {
   "cell_type": "code",
   "execution_count": 453,
   "id": "a91f7b3a-df7a-4b8d-9bd0-ed808e4bd892",
   "metadata": {},
   "outputs": [],
   "source": [
    "def find_solution(scores,ini_pop,top1,top2,cross_function,fitness_scores):\n",
    "    solution_all = []\n",
    "    nb_solution = 0\n",
    "    min_iteration = 0\n",
    "    avg_iteration = 0\n",
    "    if scores[top1[0]] == 0:\n",
    "        for i in top1:\n",
    "            solution = ini_pop[i]\n",
    "            # solotion_plot(g1,solution,i)\n",
    "            solution_all.append(solution)\n",
    "            nb_solution +=1\n",
    "        # print(\"we find {} solutions totally!\".format(nb_solution))\n",
    "    else:\n",
    "        top = top1+top2\n",
    "        index = -1\n",
    "        iterations = []\n",
    "        for i in range(len(top)-1):\n",
    "            for j in range(i+1,len(top)):\n",
    "                s_smalls, solutions, nb_iteration=cross_function(scores,ini_pop,top[i],top[j],fitness_scores)\n",
    "                if 0 in s_smalls:\n",
    "                    nb_solution +=1\n",
    "                solution_all.append(solutions)\n",
    "                iterations.append(nb_iteration)\n",
    "                index = index+1\n",
    "                # print(\"I choose ini_pop{} and ini_pop{}\".format(top[i],top[j]))\n",
    "                # print(\"it's solution{}\".format(index))\n",
    "                # print(s_smalls)\n",
    "                # plt.plot(s_smalls)\n",
    "                # plt.show()\n",
    "        # calculate the minimum iterations for finding the solution and average iterations for scores1 and scores2\n",
    "        min_iteration = min(iterations)\n",
    "        # print(\"The minimum iterations for finding the solution is:{}\".format(min_iteration))\n",
    "        avg_iteration = sum(iterations)/len(iterations)\n",
    "        # print(\"The average iterations for finding the solution is:{}\".format(avg_iteration))\n",
    "        # print(\"We find {} solutions totally!\".format(nb_solution))\n",
    "    return solution_all,min_iteration,avg_iteration,nb_solution"
   ]
  },
  {
   "cell_type": "code",
   "execution_count": 449,
   "id": "8d0616b0-c148-4dcc-837f-d50e3f8c0053",
   "metadata": {},
   "outputs": [],
   "source": [
    "solution_all1,min_iteration1,avg_iteration1,nb_solutions1=find_solution(scores1,ini_pop,top1_1,top1_2,element_cross,fitness_scores1)"
   ]
  },
  {
   "cell_type": "code",
   "execution_count": null,
   "id": "548a95b5-9cf9-4c8c-9b22-4e31639e08a3",
   "metadata": {},
   "outputs": [],
   "source": [
    "solution_all2,min_iteration2,avg_iteration2,nb_solutions2=find_solution(scores2,ini_pop,top1_1,top1_2,element_cross,fitness_scores2)"
   ]
  },
  {
   "cell_type": "code",
   "execution_count": 454,
   "id": "b7b7975a-83c0-4bd8-9464-9ef5e04ba808",
   "metadata": {},
   "outputs": [],
   "source": [
    "def run_program(N,nb_edges):\n",
    "    g = create_graph(N,nb_edges)\n",
    "    K = max(g.degree())\n",
    "    ini_pops = initial_population(K,N)\n",
    "    scores1 =fitness_scores1(g,ini_pops)\n",
    "    scores2 =fitness_scores2(g,ini_pops)\n",
    "    top1_1,top1_2 = selection(g1,scores1)\n",
    "    top2_1,top2_2 = selection(g1,scores2)  \n",
    "    solution_all1,min_iteration1,avg_iteration1,nb_solutions1=find_solution(scores1,ini_pops,top1_1,top1_2,element_cross,fitness_scores1)\n",
    "    solution_all2,min_iteration2,avg_iteration2,nb_solutions2=find_solution(scores2,ini_pops,top1_1,top1_2,element_cross,fitness_scores2)\n",
    "    return min_iteration1,min_iteration2,avg_iteration1,avg_iteration2,nb_solutions1,nb_solutions2\n"
   ]
  },
  {
   "cell_type": "code",
   "execution_count": 455,
   "id": "6dccdb29-7ac2-49d9-876a-50c45b5a4452",
   "metadata": {},
   "outputs": [
    {
     "name": "stdout",
     "output_type": "stream",
     "text": [
      "The average excution time:10.198019361495971\n"
     ]
    }
   ],
   "source": [
    "# run the program 100 times\n",
    "import time\n",
    "min_iteration1s = []\n",
    "min_iteration2s = []\n",
    "avg_iteration1s = []\n",
    "avg_iteration2s = []\n",
    "nb_solution1s = []\n",
    "nb_solution2s = []\n",
    "times = []\n",
    "for i in range(100):\n",
    "    start_time = time.time()\n",
    "    min_iteration1,min_iteration2,avg_iteration1,avg_iteration2,nb_solution1,nb_solution2 = run_program(1000,9000)\n",
    "    end_time = time.time()\n",
    "    t = end_time-start_time\n",
    "    times.append(t)\n",
    "    min_iteration1s.append(min_iteration1)\n",
    "    min_iteration2s.append(min_iteration2)\n",
    "    avg_iteration1s.append(avg_iteration1)\n",
    "    avg_iteration2s.append(avg_iteration2)\n",
    "    nb_solution1s.append(nb_solutions1)\n",
    "    nb_solution2s.append(nb_solutions2)\n",
    "avg_min_ite1 = sum(min_iteration1s)/len(min_iteration1s)\n",
    "avg_min_ite2 = sum(min_iteration2s)/len(min_iteration2s)\n",
    "avg_avg_ite1 = sum(avg_iteration1s)/len(avg_iteration1s)\n",
    "avg_avg_ite2 = sum(avg_iteration2s)/len(avg_iteration2s)\n",
    "avg_nb_s1 = sum(nb_solution1s)/len(nb_solution1s)\n",
    "avg_nb_s2 = sum(nb_solution2s)/len(nb_solution2s)\n",
    "print(\"The average excution time:{}\".format(sum(times)/len(times)))"
   ]
  },
  {
   "cell_type": "code",
   "execution_count": 456,
   "id": "287e6ee5-fe1e-48c3-a3b3-a74bd078d5de",
   "metadata": {},
   "outputs": [
    {
     "data": {
      "image/png": "[encoded data removed]",
      "text/plain": [
       "<Figure size 432x360 with 1 Axes>"
      ]
     },
     "metadata": {
      "needs_background": "light"
     },
     "output_type": "display_data"
    }
   ],
   "source": [
    "import pandas as pd\n",
    "x = ['avg_min_iteration','avg_avg_iteration','avg_nb_solutions']\n",
    "y1 = [avg_min_ite1,avg_avg_ite1,avg_nb_s1]\n",
    "y2 = [avg_min_ite2,avg_avg_ite2,avg_nb_s2]\n",
    "df = pd.DataFrame({\n",
    "\n",
    "        \"fitness1\":y1,\n",
    "\n",
    "        \"fitness2\":y2},\n",
    "\n",
    "        index=x)\n",
    "ax=df.plot(kind=\"bar\",figsize=(6,5),rot=0,title='Two fitness functions comparison over 100 runs')\n",
    "for container in ax.containers:\n",
    "    ax.bar_label(container)"
   ]
  },
  {
   "cell_type": "code",
   "execution_count": null,
   "id": "e9d38129-a5e6-448e-9e83-9c324dd10d54",
   "metadata": {},
   "outputs": [],
   "source": []
  },
  {
   "cell_type": "markdown",
   "id": "858f4cd9-db20-4000-9a61-8ed678b4beb8",
   "metadata": {},
   "source": [
    "<font size=\"3\">Method2: single-point cross over</font>"
   ]
  },
  {
   "cell_type": "code",
   "execution_count": 261,
   "id": "0edb5233-e386-40ed-aa6a-a6f1f872349b",
   "metadata": {},
   "outputs": [],
   "source": [
    "# def single_cross(ini_pop_index1,ini_pop_index2):\n",
    "#     score1 = scores[ini_pop_index1]\n",
    "#     score2 = scores[ini_pop_index2]\n",
    "#     s_small = min(score1,score2)\n",
    "#     ini_pop1 = ini_pop[ini_pop_index1]\n",
    "#     ini_pop2 = ini_pop[ini_pop_index2]\n",
    "#     ini_pops = [ini_pop1,ini_pop2]\n",
    "#     solutions = []\n",
    "#     solutions.append(ini_pops)\n",
    "#     s_smalls = []\n",
    "#     s_smalls.append(s_small)\n",
    "#     i=300\n",
    "#     # When fitness score = 0 or iteration = 100 stop\n",
    "#     while s_small !=0 and i !=0:\n",
    "#         i = i-1\n",
    "#         # genrage a radom integer in range(N)\n",
    "#         p = random.randint(0,N-1)\n",
    "#         # single-point crossover\n",
    "#         if p >= N/2:\n",
    "#             temp = ini_pops[0][p:]\n",
    "#             ini_pops[0][p:] = ini_pops[1][p:]\n",
    "#             ini_pops[1][p:] = temp\n",
    "#             scores1 = fitness_scores(g1,ini_pops)\n",
    "#             solutions.append(ini_pops)\n",
    "#             s_small = min(scores1)\n",
    "#             s_smalls.append(s_small)\n",
    "#         else:\n",
    "#             temp = ini_pops[0][:p]\n",
    "#             ini_pops[0][:p] = ini_pops[1][:p]\n",
    "#             ini_pops[1][:p] = temp\n",
    "#             scores1 = fitness_scores(g1,ini_pops)\n",
    "#             solutions.append(ini_pops)\n",
    "#             s_small = min(scores1)\n",
    "#             s_smalls.append(s_small)\n",
    "#     return  s_smalls, solutions"
   ]
  },
  {
   "cell_type": "code",
   "execution_count": 262,
   "id": "c6543008-90c3-4149-8605-ea92ff92ac72",
   "metadata": {},
   "outputs": [],
   "source": [
    "# find_solution(top1,top2,single_cross)"
   ]
  },
  {
   "cell_type": "markdown",
   "id": "17c06bfc-d8d2-4613-ae09-013cb9b719d4",
   "metadata": {},
   "source": [
    "<font size=\"3\">Method3: two-point cross over</font>"
   ]
  },
  {
   "cell_type": "code",
   "execution_count": 263,
   "id": "e6992e0e-9da6-48ef-8a29-2249c7668dc4",
   "metadata": {},
   "outputs": [],
   "source": [
    "# def two_point_cross(ini_pop_index1,ini_pop_index2):\n",
    "#     score1 = scores[ini_pop_index1]\n",
    "#     score2 = scores[ini_pop_index2]\n",
    "#     s_small = min(score1,score2)\n",
    "#     ini_pop1 = ini_pop[ini_pop_index1]\n",
    "#     ini_pop2 = ini_pop[ini_pop_index2]\n",
    "#     ini_pops = [ini_pop1,ini_pop2]\n",
    "#     solutions = []\n",
    "#     solutions.append(ini_pops)\n",
    "#     s_smalls = []\n",
    "#     s_smalls.append(s_small)\n",
    "#     i=300\n",
    "    \n",
    "#     # When fitness score = 0, stop\n",
    "#     while s_small !=0 and i != 0:\n",
    "#         i = i-1\n",
    "#         # genrage a radom integer in range(N)\n",
    "#         p1 = random.randint(N/2,N-1)\n",
    "#         p2 = random.randint(0,N/2)\n",
    "#         # two_point_cross crossover\n",
    "#         temp1 = ini_pops[0][p1:]\n",
    "#         ini_pops[0][p1:] = ini_pops[1][p1:]\n",
    "#         ini_pops[1][p1:] = temp1\n",
    "#         temp2 = ini_pops[0][:p2]\n",
    "#         ini_pops[0][:p2] = ini_pops[1][:p2]\n",
    "#         ini_pops[1][:p2] = temp2\n",
    "#         scores1 = fitness_scores(g1,ini_pops)\n",
    "#         solutions.append(ini_pops)\n",
    "#         s_small = min(scores1)\n",
    "#         s_smalls.append(s_small)\n",
    "#     return  s_smalls, solutions"
   ]
  },
  {
   "cell_type": "markdown",
   "id": "5745214d-8b07-44c8-b2d4-9a2bebeaf082",
   "metadata": {},
   "source": [
    "<font size=\"4\" color=\"brown\">Step5: Define a plot function to plot the optimal solution on the graph</font>"
   ]
  },
  {
   "cell_type": "code",
   "execution_count": null,
   "id": "36b778ce-ebfd-4eb3-9b18-84d91b83c907",
   "metadata": {},
   "outputs": [],
   "source": [
    "# def solotion_plot(g,s):\n",
    "#     visual_style['vertex_color'] = [colors[i] for i in g.vs['value']]\n",
    "#     ig.plot(g,\"solution{}.pdf\".format(i),**visual_style)"
   ]
  },
  {
   "cell_type": "markdown",
   "id": "3ebc3485-66cf-4207-82cb-908690a99932",
   "metadata": {},
   "source": [
    "<font size=\"4\" color=\"brown\">Step6: Set the genetic algorithm options, output and stopping criteria</font>"
   ]
  },
  {
   "cell_type": "code",
   "execution_count": null,
   "id": "39dcc17d-a6da-4ad5-beab-fbd0ba8be21f",
   "metadata": {},
   "outputs": [],
   "source": [
    "# for example: When fitness score = 0"
   ]
  },
  {
   "cell_type": "code",
   "execution_count": null,
   "id": "b9d73d19-af73-4d96-bbc8-3c4f23814e45",
   "metadata": {},
   "outputs": [],
   "source": []
  }
 ],
 "metadata": {
  "kernelspec": {
   "display_name": "Python 3 (ipykernel)",
   "language": "python",
   "name": "python3"
  },
  "language_info": {
   "codemirror_mode": {
    "name": "ipython",
    "version": 3
   },
   "file_extension": ".py",
   "mimetype": "text/x-python",
   "name": "python",
   "nbconvert_exporter": "python",
   "pygments_lexer": "ipython3",
   "version": "3.8.13"
  }
 },
 "nbformat": 4,
 "nbformat_minor": 5
}
